{
 "cells": [
  {
   "cell_type": "code",
   "execution_count": 1,
   "outputs": [],
   "source": [
    "import pandas as pd"
   ],
   "metadata": {
    "collapsed": false,
    "pycharm": {
     "name": "#%%\n"
    }
   }
  },
  {
   "cell_type": "code",
   "execution_count": 2,
   "outputs": [],
   "source": [
    "df_por = pd.read_csv('../dataset/original/student-por.csv', sep=';')"
   ],
   "metadata": {
    "collapsed": false,
    "pycharm": {
     "name": "#%%\n"
    }
   }
  },
  {
   "cell_type": "code",
   "execution_count": 3,
   "outputs": [
    {
     "data": {
      "text/plain": "    school sex  age address famsize Pstatus  Medu  Fedu      Mjob      Fjob  \\\n0       GP   F   18       U     GT3       A     4     4   at_home   teacher   \n1       GP   F   17       U     GT3       T     1     1   at_home     other   \n2       GP   F   15       U     LE3       T     1     1   at_home     other   \n3       GP   F   15       U     GT3       T     4     2    health  services   \n4       GP   F   16       U     GT3       T     3     3     other     other   \n..     ...  ..  ...     ...     ...     ...   ...   ...       ...       ...   \n644     MS   F   19       R     GT3       T     2     3  services     other   \n645     MS   F   18       U     LE3       T     3     1   teacher  services   \n646     MS   F   18       U     GT3       T     1     1     other     other   \n647     MS   M   17       U     LE3       T     3     1  services  services   \n648     MS   M   18       R     LE3       T     3     2  services     other   \n\n     ... famrel freetime  goout  Dalc  Walc health absences  G1  G2  G3  \n0    ...      4        3      4     1     1      3        4   0  11  11  \n1    ...      5        3      3     1     1      3        2   9  11  11  \n2    ...      4        3      2     2     3      3        6  12  13  12  \n3    ...      3        2      2     1     1      5        0  14  14  14  \n4    ...      4        3      2     1     2      5        0  11  13  13  \n..   ...    ...      ...    ...   ...   ...    ...      ...  ..  ..  ..  \n644  ...      5        4      2     1     2      5        4  10  11  10  \n645  ...      4        3      4     1     1      1        4  15  15  16  \n646  ...      1        1      1     1     1      5        6  11  12   9  \n647  ...      2        4      5     3     4      2        6  10  10  10  \n648  ...      4        4      1     3     4      5        4  10  11  11  \n\n[649 rows x 33 columns]",
      "text/html": "<div>\n<style scoped>\n    .dataframe tbody tr th:only-of-type {\n        vertical-align: middle;\n    }\n\n    .dataframe tbody tr th {\n        vertical-align: top;\n    }\n\n    .dataframe thead th {\n        text-align: right;\n    }\n</style>\n<table border=\"1\" class=\"dataframe\">\n  <thead>\n    <tr style=\"text-align: right;\">\n      <th></th>\n      <th>school</th>\n      <th>sex</th>\n      <th>age</th>\n      <th>address</th>\n      <th>famsize</th>\n      <th>Pstatus</th>\n      <th>Medu</th>\n      <th>Fedu</th>\n      <th>Mjob</th>\n      <th>Fjob</th>\n      <th>...</th>\n      <th>famrel</th>\n      <th>freetime</th>\n      <th>goout</th>\n      <th>Dalc</th>\n      <th>Walc</th>\n      <th>health</th>\n      <th>absences</th>\n      <th>G1</th>\n      <th>G2</th>\n      <th>G3</th>\n    </tr>\n  </thead>\n  <tbody>\n    <tr>\n      <th>0</th>\n      <td>GP</td>\n      <td>F</td>\n      <td>18</td>\n      <td>U</td>\n      <td>GT3</td>\n      <td>A</td>\n      <td>4</td>\n      <td>4</td>\n      <td>at_home</td>\n      <td>teacher</td>\n      <td>...</td>\n      <td>4</td>\n      <td>3</td>\n      <td>4</td>\n      <td>1</td>\n      <td>1</td>\n      <td>3</td>\n      <td>4</td>\n      <td>0</td>\n      <td>11</td>\n      <td>11</td>\n    </tr>\n    <tr>\n      <th>1</th>\n      <td>GP</td>\n      <td>F</td>\n      <td>17</td>\n      <td>U</td>\n      <td>GT3</td>\n      <td>T</td>\n      <td>1</td>\n      <td>1</td>\n      <td>at_home</td>\n      <td>other</td>\n      <td>...</td>\n      <td>5</td>\n      <td>3</td>\n      <td>3</td>\n      <td>1</td>\n      <td>1</td>\n      <td>3</td>\n      <td>2</td>\n      <td>9</td>\n      <td>11</td>\n      <td>11</td>\n    </tr>\n    <tr>\n      <th>2</th>\n      <td>GP</td>\n      <td>F</td>\n      <td>15</td>\n      <td>U</td>\n      <td>LE3</td>\n      <td>T</td>\n      <td>1</td>\n      <td>1</td>\n      <td>at_home</td>\n      <td>other</td>\n      <td>...</td>\n      <td>4</td>\n      <td>3</td>\n      <td>2</td>\n      <td>2</td>\n      <td>3</td>\n      <td>3</td>\n      <td>6</td>\n      <td>12</td>\n      <td>13</td>\n      <td>12</td>\n    </tr>\n    <tr>\n      <th>3</th>\n      <td>GP</td>\n      <td>F</td>\n      <td>15</td>\n      <td>U</td>\n      <td>GT3</td>\n      <td>T</td>\n      <td>4</td>\n      <td>2</td>\n      <td>health</td>\n      <td>services</td>\n      <td>...</td>\n      <td>3</td>\n      <td>2</td>\n      <td>2</td>\n      <td>1</td>\n      <td>1</td>\n      <td>5</td>\n      <td>0</td>\n      <td>14</td>\n      <td>14</td>\n      <td>14</td>\n    </tr>\n    <tr>\n      <th>4</th>\n      <td>GP</td>\n      <td>F</td>\n      <td>16</td>\n      <td>U</td>\n      <td>GT3</td>\n      <td>T</td>\n      <td>3</td>\n      <td>3</td>\n      <td>other</td>\n      <td>other</td>\n      <td>...</td>\n      <td>4</td>\n      <td>3</td>\n      <td>2</td>\n      <td>1</td>\n      <td>2</td>\n      <td>5</td>\n      <td>0</td>\n      <td>11</td>\n      <td>13</td>\n      <td>13</td>\n    </tr>\n    <tr>\n      <th>...</th>\n      <td>...</td>\n      <td>...</td>\n      <td>...</td>\n      <td>...</td>\n      <td>...</td>\n      <td>...</td>\n      <td>...</td>\n      <td>...</td>\n      <td>...</td>\n      <td>...</td>\n      <td>...</td>\n      <td>...</td>\n      <td>...</td>\n      <td>...</td>\n      <td>...</td>\n      <td>...</td>\n      <td>...</td>\n      <td>...</td>\n      <td>...</td>\n      <td>...</td>\n      <td>...</td>\n    </tr>\n    <tr>\n      <th>644</th>\n      <td>MS</td>\n      <td>F</td>\n      <td>19</td>\n      <td>R</td>\n      <td>GT3</td>\n      <td>T</td>\n      <td>2</td>\n      <td>3</td>\n      <td>services</td>\n      <td>other</td>\n      <td>...</td>\n      <td>5</td>\n      <td>4</td>\n      <td>2</td>\n      <td>1</td>\n      <td>2</td>\n      <td>5</td>\n      <td>4</td>\n      <td>10</td>\n      <td>11</td>\n      <td>10</td>\n    </tr>\n    <tr>\n      <th>645</th>\n      <td>MS</td>\n      <td>F</td>\n      <td>18</td>\n      <td>U</td>\n      <td>LE3</td>\n      <td>T</td>\n      <td>3</td>\n      <td>1</td>\n      <td>teacher</td>\n      <td>services</td>\n      <td>...</td>\n      <td>4</td>\n      <td>3</td>\n      <td>4</td>\n      <td>1</td>\n      <td>1</td>\n      <td>1</td>\n      <td>4</td>\n      <td>15</td>\n      <td>15</td>\n      <td>16</td>\n    </tr>\n    <tr>\n      <th>646</th>\n      <td>MS</td>\n      <td>F</td>\n      <td>18</td>\n      <td>U</td>\n      <td>GT3</td>\n      <td>T</td>\n      <td>1</td>\n      <td>1</td>\n      <td>other</td>\n      <td>other</td>\n      <td>...</td>\n      <td>1</td>\n      <td>1</td>\n      <td>1</td>\n      <td>1</td>\n      <td>1</td>\n      <td>5</td>\n      <td>6</td>\n      <td>11</td>\n      <td>12</td>\n      <td>9</td>\n    </tr>\n    <tr>\n      <th>647</th>\n      <td>MS</td>\n      <td>M</td>\n      <td>17</td>\n      <td>U</td>\n      <td>LE3</td>\n      <td>T</td>\n      <td>3</td>\n      <td>1</td>\n      <td>services</td>\n      <td>services</td>\n      <td>...</td>\n      <td>2</td>\n      <td>4</td>\n      <td>5</td>\n      <td>3</td>\n      <td>4</td>\n      <td>2</td>\n      <td>6</td>\n      <td>10</td>\n      <td>10</td>\n      <td>10</td>\n    </tr>\n    <tr>\n      <th>648</th>\n      <td>MS</td>\n      <td>M</td>\n      <td>18</td>\n      <td>R</td>\n      <td>LE3</td>\n      <td>T</td>\n      <td>3</td>\n      <td>2</td>\n      <td>services</td>\n      <td>other</td>\n      <td>...</td>\n      <td>4</td>\n      <td>4</td>\n      <td>1</td>\n      <td>3</td>\n      <td>4</td>\n      <td>5</td>\n      <td>4</td>\n      <td>10</td>\n      <td>11</td>\n      <td>11</td>\n    </tr>\n  </tbody>\n</table>\n<p>649 rows × 33 columns</p>\n</div>"
     },
     "execution_count": 3,
     "metadata": {},
     "output_type": "execute_result"
    }
   ],
   "source": [
    "df_por"
   ],
   "metadata": {
    "collapsed": false,
    "pycharm": {
     "name": "#%%\n"
    }
   }
  },
  {
   "cell_type": "code",
   "execution_count": 4,
   "outputs": [
    {
     "data": {
      "text/plain": "  school sex  age address famsize Pstatus  Medu  Fedu     Mjob      Fjob  ...  \\\n0     GP   F   18       U     GT3       A     4     4  at_home   teacher  ...   \n1     GP   F   17       U     GT3       T     1     1  at_home     other  ...   \n2     GP   F   15       U     LE3       T     1     1  at_home     other  ...   \n3     GP   F   15       U     GT3       T     4     2   health  services  ...   \n4     GP   F   16       U     GT3       T     3     3    other     other  ...   \n\n  famrel freetime  goout  Dalc  Walc health absences  G1  G2  G3  \n0      4        3      4     1     1      3        4   0  11  11  \n1      5        3      3     1     1      3        2   9  11  11  \n2      4        3      2     2     3      3        6  12  13  12  \n3      3        2      2     1     1      5        0  14  14  14  \n4      4        3      2     1     2      5        0  11  13  13  \n\n[5 rows x 33 columns]",
      "text/html": "<div>\n<style scoped>\n    .dataframe tbody tr th:only-of-type {\n        vertical-align: middle;\n    }\n\n    .dataframe tbody tr th {\n        vertical-align: top;\n    }\n\n    .dataframe thead th {\n        text-align: right;\n    }\n</style>\n<table border=\"1\" class=\"dataframe\">\n  <thead>\n    <tr style=\"text-align: right;\">\n      <th></th>\n      <th>school</th>\n      <th>sex</th>\n      <th>age</th>\n      <th>address</th>\n      <th>famsize</th>\n      <th>Pstatus</th>\n      <th>Medu</th>\n      <th>Fedu</th>\n      <th>Mjob</th>\n      <th>Fjob</th>\n      <th>...</th>\n      <th>famrel</th>\n      <th>freetime</th>\n      <th>goout</th>\n      <th>Dalc</th>\n      <th>Walc</th>\n      <th>health</th>\n      <th>absences</th>\n      <th>G1</th>\n      <th>G2</th>\n      <th>G3</th>\n    </tr>\n  </thead>\n  <tbody>\n    <tr>\n      <th>0</th>\n      <td>GP</td>\n      <td>F</td>\n      <td>18</td>\n      <td>U</td>\n      <td>GT3</td>\n      <td>A</td>\n      <td>4</td>\n      <td>4</td>\n      <td>at_home</td>\n      <td>teacher</td>\n      <td>...</td>\n      <td>4</td>\n      <td>3</td>\n      <td>4</td>\n      <td>1</td>\n      <td>1</td>\n      <td>3</td>\n      <td>4</td>\n      <td>0</td>\n      <td>11</td>\n      <td>11</td>\n    </tr>\n    <tr>\n      <th>1</th>\n      <td>GP</td>\n      <td>F</td>\n      <td>17</td>\n      <td>U</td>\n      <td>GT3</td>\n      <td>T</td>\n      <td>1</td>\n      <td>1</td>\n      <td>at_home</td>\n      <td>other</td>\n      <td>...</td>\n      <td>5</td>\n      <td>3</td>\n      <td>3</td>\n      <td>1</td>\n      <td>1</td>\n      <td>3</td>\n      <td>2</td>\n      <td>9</td>\n      <td>11</td>\n      <td>11</td>\n    </tr>\n    <tr>\n      <th>2</th>\n      <td>GP</td>\n      <td>F</td>\n      <td>15</td>\n      <td>U</td>\n      <td>LE3</td>\n      <td>T</td>\n      <td>1</td>\n      <td>1</td>\n      <td>at_home</td>\n      <td>other</td>\n      <td>...</td>\n      <td>4</td>\n      <td>3</td>\n      <td>2</td>\n      <td>2</td>\n      <td>3</td>\n      <td>3</td>\n      <td>6</td>\n      <td>12</td>\n      <td>13</td>\n      <td>12</td>\n    </tr>\n    <tr>\n      <th>3</th>\n      <td>GP</td>\n      <td>F</td>\n      <td>15</td>\n      <td>U</td>\n      <td>GT3</td>\n      <td>T</td>\n      <td>4</td>\n      <td>2</td>\n      <td>health</td>\n      <td>services</td>\n      <td>...</td>\n      <td>3</td>\n      <td>2</td>\n      <td>2</td>\n      <td>1</td>\n      <td>1</td>\n      <td>5</td>\n      <td>0</td>\n      <td>14</td>\n      <td>14</td>\n      <td>14</td>\n    </tr>\n    <tr>\n      <th>4</th>\n      <td>GP</td>\n      <td>F</td>\n      <td>16</td>\n      <td>U</td>\n      <td>GT3</td>\n      <td>T</td>\n      <td>3</td>\n      <td>3</td>\n      <td>other</td>\n      <td>other</td>\n      <td>...</td>\n      <td>4</td>\n      <td>3</td>\n      <td>2</td>\n      <td>1</td>\n      <td>2</td>\n      <td>5</td>\n      <td>0</td>\n      <td>11</td>\n      <td>13</td>\n      <td>13</td>\n    </tr>\n  </tbody>\n</table>\n<p>5 rows × 33 columns</p>\n</div>"
     },
     "execution_count": 4,
     "metadata": {},
     "output_type": "execute_result"
    }
   ],
   "source": [
    "df_por.head()"
   ],
   "metadata": {
    "collapsed": false,
    "pycharm": {
     "name": "#%%\n"
    }
   }
  },
  {
   "cell_type": "code",
   "execution_count": 5,
   "outputs": [
    {
     "data": {
      "text/plain": "    school sex  age address famsize Pstatus  Medu  Fedu      Mjob      Fjob  \\\n644     MS   F   19       R     GT3       T     2     3  services     other   \n645     MS   F   18       U     LE3       T     3     1   teacher  services   \n646     MS   F   18       U     GT3       T     1     1     other     other   \n647     MS   M   17       U     LE3       T     3     1  services  services   \n648     MS   M   18       R     LE3       T     3     2  services     other   \n\n     ... famrel freetime  goout  Dalc  Walc health absences  G1  G2  G3  \n644  ...      5        4      2     1     2      5        4  10  11  10  \n645  ...      4        3      4     1     1      1        4  15  15  16  \n646  ...      1        1      1     1     1      5        6  11  12   9  \n647  ...      2        4      5     3     4      2        6  10  10  10  \n648  ...      4        4      1     3     4      5        4  10  11  11  \n\n[5 rows x 33 columns]",
      "text/html": "<div>\n<style scoped>\n    .dataframe tbody tr th:only-of-type {\n        vertical-align: middle;\n    }\n\n    .dataframe tbody tr th {\n        vertical-align: top;\n    }\n\n    .dataframe thead th {\n        text-align: right;\n    }\n</style>\n<table border=\"1\" class=\"dataframe\">\n  <thead>\n    <tr style=\"text-align: right;\">\n      <th></th>\n      <th>school</th>\n      <th>sex</th>\n      <th>age</th>\n      <th>address</th>\n      <th>famsize</th>\n      <th>Pstatus</th>\n      <th>Medu</th>\n      <th>Fedu</th>\n      <th>Mjob</th>\n      <th>Fjob</th>\n      <th>...</th>\n      <th>famrel</th>\n      <th>freetime</th>\n      <th>goout</th>\n      <th>Dalc</th>\n      <th>Walc</th>\n      <th>health</th>\n      <th>absences</th>\n      <th>G1</th>\n      <th>G2</th>\n      <th>G3</th>\n    </tr>\n  </thead>\n  <tbody>\n    <tr>\n      <th>644</th>\n      <td>MS</td>\n      <td>F</td>\n      <td>19</td>\n      <td>R</td>\n      <td>GT3</td>\n      <td>T</td>\n      <td>2</td>\n      <td>3</td>\n      <td>services</td>\n      <td>other</td>\n      <td>...</td>\n      <td>5</td>\n      <td>4</td>\n      <td>2</td>\n      <td>1</td>\n      <td>2</td>\n      <td>5</td>\n      <td>4</td>\n      <td>10</td>\n      <td>11</td>\n      <td>10</td>\n    </tr>\n    <tr>\n      <th>645</th>\n      <td>MS</td>\n      <td>F</td>\n      <td>18</td>\n      <td>U</td>\n      <td>LE3</td>\n      <td>T</td>\n      <td>3</td>\n      <td>1</td>\n      <td>teacher</td>\n      <td>services</td>\n      <td>...</td>\n      <td>4</td>\n      <td>3</td>\n      <td>4</td>\n      <td>1</td>\n      <td>1</td>\n      <td>1</td>\n      <td>4</td>\n      <td>15</td>\n      <td>15</td>\n      <td>16</td>\n    </tr>\n    <tr>\n      <th>646</th>\n      <td>MS</td>\n      <td>F</td>\n      <td>18</td>\n      <td>U</td>\n      <td>GT3</td>\n      <td>T</td>\n      <td>1</td>\n      <td>1</td>\n      <td>other</td>\n      <td>other</td>\n      <td>...</td>\n      <td>1</td>\n      <td>1</td>\n      <td>1</td>\n      <td>1</td>\n      <td>1</td>\n      <td>5</td>\n      <td>6</td>\n      <td>11</td>\n      <td>12</td>\n      <td>9</td>\n    </tr>\n    <tr>\n      <th>647</th>\n      <td>MS</td>\n      <td>M</td>\n      <td>17</td>\n      <td>U</td>\n      <td>LE3</td>\n      <td>T</td>\n      <td>3</td>\n      <td>1</td>\n      <td>services</td>\n      <td>services</td>\n      <td>...</td>\n      <td>2</td>\n      <td>4</td>\n      <td>5</td>\n      <td>3</td>\n      <td>4</td>\n      <td>2</td>\n      <td>6</td>\n      <td>10</td>\n      <td>10</td>\n      <td>10</td>\n    </tr>\n    <tr>\n      <th>648</th>\n      <td>MS</td>\n      <td>M</td>\n      <td>18</td>\n      <td>R</td>\n      <td>LE3</td>\n      <td>T</td>\n      <td>3</td>\n      <td>2</td>\n      <td>services</td>\n      <td>other</td>\n      <td>...</td>\n      <td>4</td>\n      <td>4</td>\n      <td>1</td>\n      <td>3</td>\n      <td>4</td>\n      <td>5</td>\n      <td>4</td>\n      <td>10</td>\n      <td>11</td>\n      <td>11</td>\n    </tr>\n  </tbody>\n</table>\n<p>5 rows × 33 columns</p>\n</div>"
     },
     "execution_count": 5,
     "metadata": {},
     "output_type": "execute_result"
    }
   ],
   "source": [
    "df_por.tail()"
   ],
   "metadata": {
    "collapsed": false,
    "pycharm": {
     "name": "#%%\n"
    }
   }
  },
  {
   "cell_type": "code",
   "execution_count": 6,
   "outputs": [
    {
     "data": {
      "text/plain": "(649, 33)"
     },
     "execution_count": 6,
     "metadata": {},
     "output_type": "execute_result"
    }
   ],
   "source": [
    "df_por.shape"
   ],
   "metadata": {
    "collapsed": false,
    "pycharm": {
     "name": "#%%\n"
    }
   }
  },
  {
   "cell_type": "code",
   "execution_count": 7,
   "outputs": [
    {
     "data": {
      "text/plain": "649"
     },
     "execution_count": 7,
     "metadata": {},
     "output_type": "execute_result"
    }
   ],
   "source": [
    "df_por.shape[0]"
   ],
   "metadata": {
    "collapsed": false,
    "pycharm": {
     "name": "#%%\n"
    }
   }
  },
  {
   "cell_type": "code",
   "execution_count": 8,
   "outputs": [
    {
     "name": "stdout",
     "output_type": "stream",
     "text": [
      "<class 'pandas.core.frame.DataFrame'>\n",
      "RangeIndex: 649 entries, 0 to 648\n",
      "Data columns (total 33 columns):\n",
      " #   Column      Non-Null Count  Dtype \n",
      "---  ------      --------------  ----- \n",
      " 0   school      649 non-null    object\n",
      " 1   sex         649 non-null    object\n",
      " 2   age         649 non-null    int64 \n",
      " 3   address     649 non-null    object\n",
      " 4   famsize     649 non-null    object\n",
      " 5   Pstatus     649 non-null    object\n",
      " 6   Medu        649 non-null    int64 \n",
      " 7   Fedu        649 non-null    int64 \n",
      " 8   Mjob        649 non-null    object\n",
      " 9   Fjob        649 non-null    object\n",
      " 10  reason      649 non-null    object\n",
      " 11  guardian    649 non-null    object\n",
      " 12  traveltime  649 non-null    int64 \n",
      " 13  studytime   649 non-null    int64 \n",
      " 14  failures    649 non-null    int64 \n",
      " 15  schoolsup   649 non-null    object\n",
      " 16  famsup      649 non-null    object\n",
      " 17  paid        649 non-null    object\n",
      " 18  activities  649 non-null    object\n",
      " 19  nursery     649 non-null    object\n",
      " 20  higher      649 non-null    object\n",
      " 21  internet    649 non-null    object\n",
      " 22  romantic    649 non-null    object\n",
      " 23  famrel      649 non-null    int64 \n",
      " 24  freetime    649 non-null    int64 \n",
      " 25  goout       649 non-null    int64 \n",
      " 26  Dalc        649 non-null    int64 \n",
      " 27  Walc        649 non-null    int64 \n",
      " 28  health      649 non-null    int64 \n",
      " 29  absences    649 non-null    int64 \n",
      " 30  G1          649 non-null    int64 \n",
      " 31  G2          649 non-null    int64 \n",
      " 32  G3          649 non-null    int64 \n",
      "dtypes: int64(16), object(17)\n",
      "memory usage: 167.4+ KB\n"
     ]
    }
   ],
   "source": [
    "df_por.info()"
   ],
   "metadata": {
    "collapsed": false,
    "pycharm": {
     "name": "#%%\n"
    }
   }
  },
  {
   "cell_type": "code",
   "execution_count": 9,
   "outputs": [],
   "source": [
    "df_por_null = df_por[df_por.isnull().any(axis=1)]"
   ],
   "metadata": {
    "collapsed": false,
    "pycharm": {
     "name": "#%%\n"
    }
   }
  },
  {
   "cell_type": "code",
   "execution_count": 10,
   "outputs": [
    {
     "data": {
      "text/plain": "Empty DataFrame\nColumns: [school, sex, age, address, famsize, Pstatus, Medu, Fedu, Mjob, Fjob, reason, guardian, traveltime, studytime, failures, schoolsup, famsup, paid, activities, nursery, higher, internet, romantic, famrel, freetime, goout, Dalc, Walc, health, absences, G1, G2, G3]\nIndex: []\n\n[0 rows x 33 columns]",
      "text/html": "<div>\n<style scoped>\n    .dataframe tbody tr th:only-of-type {\n        vertical-align: middle;\n    }\n\n    .dataframe tbody tr th {\n        vertical-align: top;\n    }\n\n    .dataframe thead th {\n        text-align: right;\n    }\n</style>\n<table border=\"1\" class=\"dataframe\">\n  <thead>\n    <tr style=\"text-align: right;\">\n      <th></th>\n      <th>school</th>\n      <th>sex</th>\n      <th>age</th>\n      <th>address</th>\n      <th>famsize</th>\n      <th>Pstatus</th>\n      <th>Medu</th>\n      <th>Fedu</th>\n      <th>Mjob</th>\n      <th>Fjob</th>\n      <th>...</th>\n      <th>famrel</th>\n      <th>freetime</th>\n      <th>goout</th>\n      <th>Dalc</th>\n      <th>Walc</th>\n      <th>health</th>\n      <th>absences</th>\n      <th>G1</th>\n      <th>G2</th>\n      <th>G3</th>\n    </tr>\n  </thead>\n  <tbody>\n  </tbody>\n</table>\n<p>0 rows × 33 columns</p>\n</div>"
     },
     "execution_count": 10,
     "metadata": {},
     "output_type": "execute_result"
    }
   ],
   "source": [
    "df_por_null"
   ],
   "metadata": {
    "collapsed": false,
    "pycharm": {
     "name": "#%%\n"
    }
   }
  },
  {
   "cell_type": "code",
   "execution_count": 11,
   "outputs": [
    {
     "data": {
      "text/plain": "(0, 33)"
     },
     "execution_count": 11,
     "metadata": {},
     "output_type": "execute_result"
    }
   ],
   "source": [
    "df_por_null.shape"
   ],
   "metadata": {
    "collapsed": false,
    "pycharm": {
     "name": "#%%\n"
    }
   }
  },
  {
   "cell_type": "code",
   "execution_count": 12,
   "outputs": [
    {
     "data": {
      "text/plain": "0"
     },
     "execution_count": 12,
     "metadata": {},
     "output_type": "execute_result"
    }
   ],
   "source": [
    "df_por_null.shape[0]"
   ],
   "metadata": {
    "collapsed": false,
    "pycharm": {
     "name": "#%%\n"
    }
   }
  },
  {
   "cell_type": "code",
   "execution_count": 13,
   "outputs": [],
   "source": [
    "df_por_not_null = df_por[df_por.notna().all(axis=1)]"
   ],
   "metadata": {
    "collapsed": false,
    "pycharm": {
     "name": "#%%\n"
    }
   }
  },
  {
   "cell_type": "code",
   "execution_count": 14,
   "outputs": [
    {
     "data": {
      "text/plain": "    school sex  age address famsize Pstatus  Medu  Fedu      Mjob      Fjob  \\\n0       GP   F   18       U     GT3       A     4     4   at_home   teacher   \n1       GP   F   17       U     GT3       T     1     1   at_home     other   \n2       GP   F   15       U     LE3       T     1     1   at_home     other   \n3       GP   F   15       U     GT3       T     4     2    health  services   \n4       GP   F   16       U     GT3       T     3     3     other     other   \n..     ...  ..  ...     ...     ...     ...   ...   ...       ...       ...   \n644     MS   F   19       R     GT3       T     2     3  services     other   \n645     MS   F   18       U     LE3       T     3     1   teacher  services   \n646     MS   F   18       U     GT3       T     1     1     other     other   \n647     MS   M   17       U     LE3       T     3     1  services  services   \n648     MS   M   18       R     LE3       T     3     2  services     other   \n\n     ... famrel freetime  goout  Dalc  Walc health absences  G1  G2  G3  \n0    ...      4        3      4     1     1      3        4   0  11  11  \n1    ...      5        3      3     1     1      3        2   9  11  11  \n2    ...      4        3      2     2     3      3        6  12  13  12  \n3    ...      3        2      2     1     1      5        0  14  14  14  \n4    ...      4        3      2     1     2      5        0  11  13  13  \n..   ...    ...      ...    ...   ...   ...    ...      ...  ..  ..  ..  \n644  ...      5        4      2     1     2      5        4  10  11  10  \n645  ...      4        3      4     1     1      1        4  15  15  16  \n646  ...      1        1      1     1     1      5        6  11  12   9  \n647  ...      2        4      5     3     4      2        6  10  10  10  \n648  ...      4        4      1     3     4      5        4  10  11  11  \n\n[649 rows x 33 columns]",
      "text/html": "<div>\n<style scoped>\n    .dataframe tbody tr th:only-of-type {\n        vertical-align: middle;\n    }\n\n    .dataframe tbody tr th {\n        vertical-align: top;\n    }\n\n    .dataframe thead th {\n        text-align: right;\n    }\n</style>\n<table border=\"1\" class=\"dataframe\">\n  <thead>\n    <tr style=\"text-align: right;\">\n      <th></th>\n      <th>school</th>\n      <th>sex</th>\n      <th>age</th>\n      <th>address</th>\n      <th>famsize</th>\n      <th>Pstatus</th>\n      <th>Medu</th>\n      <th>Fedu</th>\n      <th>Mjob</th>\n      <th>Fjob</th>\n      <th>...</th>\n      <th>famrel</th>\n      <th>freetime</th>\n      <th>goout</th>\n      <th>Dalc</th>\n      <th>Walc</th>\n      <th>health</th>\n      <th>absences</th>\n      <th>G1</th>\n      <th>G2</th>\n      <th>G3</th>\n    </tr>\n  </thead>\n  <tbody>\n    <tr>\n      <th>0</th>\n      <td>GP</td>\n      <td>F</td>\n      <td>18</td>\n      <td>U</td>\n      <td>GT3</td>\n      <td>A</td>\n      <td>4</td>\n      <td>4</td>\n      <td>at_home</td>\n      <td>teacher</td>\n      <td>...</td>\n      <td>4</td>\n      <td>3</td>\n      <td>4</td>\n      <td>1</td>\n      <td>1</td>\n      <td>3</td>\n      <td>4</td>\n      <td>0</td>\n      <td>11</td>\n      <td>11</td>\n    </tr>\n    <tr>\n      <th>1</th>\n      <td>GP</td>\n      <td>F</td>\n      <td>17</td>\n      <td>U</td>\n      <td>GT3</td>\n      <td>T</td>\n      <td>1</td>\n      <td>1</td>\n      <td>at_home</td>\n      <td>other</td>\n      <td>...</td>\n      <td>5</td>\n      <td>3</td>\n      <td>3</td>\n      <td>1</td>\n      <td>1</td>\n      <td>3</td>\n      <td>2</td>\n      <td>9</td>\n      <td>11</td>\n      <td>11</td>\n    </tr>\n    <tr>\n      <th>2</th>\n      <td>GP</td>\n      <td>F</td>\n      <td>15</td>\n      <td>U</td>\n      <td>LE3</td>\n      <td>T</td>\n      <td>1</td>\n      <td>1</td>\n      <td>at_home</td>\n      <td>other</td>\n      <td>...</td>\n      <td>4</td>\n      <td>3</td>\n      <td>2</td>\n      <td>2</td>\n      <td>3</td>\n      <td>3</td>\n      <td>6</td>\n      <td>12</td>\n      <td>13</td>\n      <td>12</td>\n    </tr>\n    <tr>\n      <th>3</th>\n      <td>GP</td>\n      <td>F</td>\n      <td>15</td>\n      <td>U</td>\n      <td>GT3</td>\n      <td>T</td>\n      <td>4</td>\n      <td>2</td>\n      <td>health</td>\n      <td>services</td>\n      <td>...</td>\n      <td>3</td>\n      <td>2</td>\n      <td>2</td>\n      <td>1</td>\n      <td>1</td>\n      <td>5</td>\n      <td>0</td>\n      <td>14</td>\n      <td>14</td>\n      <td>14</td>\n    </tr>\n    <tr>\n      <th>4</th>\n      <td>GP</td>\n      <td>F</td>\n      <td>16</td>\n      <td>U</td>\n      <td>GT3</td>\n      <td>T</td>\n      <td>3</td>\n      <td>3</td>\n      <td>other</td>\n      <td>other</td>\n      <td>...</td>\n      <td>4</td>\n      <td>3</td>\n      <td>2</td>\n      <td>1</td>\n      <td>2</td>\n      <td>5</td>\n      <td>0</td>\n      <td>11</td>\n      <td>13</td>\n      <td>13</td>\n    </tr>\n    <tr>\n      <th>...</th>\n      <td>...</td>\n      <td>...</td>\n      <td>...</td>\n      <td>...</td>\n      <td>...</td>\n      <td>...</td>\n      <td>...</td>\n      <td>...</td>\n      <td>...</td>\n      <td>...</td>\n      <td>...</td>\n      <td>...</td>\n      <td>...</td>\n      <td>...</td>\n      <td>...</td>\n      <td>...</td>\n      <td>...</td>\n      <td>...</td>\n      <td>...</td>\n      <td>...</td>\n      <td>...</td>\n    </tr>\n    <tr>\n      <th>644</th>\n      <td>MS</td>\n      <td>F</td>\n      <td>19</td>\n      <td>R</td>\n      <td>GT3</td>\n      <td>T</td>\n      <td>2</td>\n      <td>3</td>\n      <td>services</td>\n      <td>other</td>\n      <td>...</td>\n      <td>5</td>\n      <td>4</td>\n      <td>2</td>\n      <td>1</td>\n      <td>2</td>\n      <td>5</td>\n      <td>4</td>\n      <td>10</td>\n      <td>11</td>\n      <td>10</td>\n    </tr>\n    <tr>\n      <th>645</th>\n      <td>MS</td>\n      <td>F</td>\n      <td>18</td>\n      <td>U</td>\n      <td>LE3</td>\n      <td>T</td>\n      <td>3</td>\n      <td>1</td>\n      <td>teacher</td>\n      <td>services</td>\n      <td>...</td>\n      <td>4</td>\n      <td>3</td>\n      <td>4</td>\n      <td>1</td>\n      <td>1</td>\n      <td>1</td>\n      <td>4</td>\n      <td>15</td>\n      <td>15</td>\n      <td>16</td>\n    </tr>\n    <tr>\n      <th>646</th>\n      <td>MS</td>\n      <td>F</td>\n      <td>18</td>\n      <td>U</td>\n      <td>GT3</td>\n      <td>T</td>\n      <td>1</td>\n      <td>1</td>\n      <td>other</td>\n      <td>other</td>\n      <td>...</td>\n      <td>1</td>\n      <td>1</td>\n      <td>1</td>\n      <td>1</td>\n      <td>1</td>\n      <td>5</td>\n      <td>6</td>\n      <td>11</td>\n      <td>12</td>\n      <td>9</td>\n    </tr>\n    <tr>\n      <th>647</th>\n      <td>MS</td>\n      <td>M</td>\n      <td>17</td>\n      <td>U</td>\n      <td>LE3</td>\n      <td>T</td>\n      <td>3</td>\n      <td>1</td>\n      <td>services</td>\n      <td>services</td>\n      <td>...</td>\n      <td>2</td>\n      <td>4</td>\n      <td>5</td>\n      <td>3</td>\n      <td>4</td>\n      <td>2</td>\n      <td>6</td>\n      <td>10</td>\n      <td>10</td>\n      <td>10</td>\n    </tr>\n    <tr>\n      <th>648</th>\n      <td>MS</td>\n      <td>M</td>\n      <td>18</td>\n      <td>R</td>\n      <td>LE3</td>\n      <td>T</td>\n      <td>3</td>\n      <td>2</td>\n      <td>services</td>\n      <td>other</td>\n      <td>...</td>\n      <td>4</td>\n      <td>4</td>\n      <td>1</td>\n      <td>3</td>\n      <td>4</td>\n      <td>5</td>\n      <td>4</td>\n      <td>10</td>\n      <td>11</td>\n      <td>11</td>\n    </tr>\n  </tbody>\n</table>\n<p>649 rows × 33 columns</p>\n</div>"
     },
     "execution_count": 14,
     "metadata": {},
     "output_type": "execute_result"
    }
   ],
   "source": [
    "df_por_not_null"
   ],
   "metadata": {
    "collapsed": false,
    "pycharm": {
     "name": "#%%\n"
    }
   }
  },
  {
   "cell_type": "code",
   "execution_count": 15,
   "outputs": [
    {
     "data": {
      "text/plain": "(649, 33)"
     },
     "execution_count": 15,
     "metadata": {},
     "output_type": "execute_result"
    }
   ],
   "source": [
    "df_por_not_null.shape"
   ],
   "metadata": {
    "collapsed": false,
    "pycharm": {
     "name": "#%%\n"
    }
   }
  },
  {
   "cell_type": "code",
   "execution_count": 16,
   "outputs": [
    {
     "data": {
      "text/plain": "649"
     },
     "execution_count": 16,
     "metadata": {},
     "output_type": "execute_result"
    }
   ],
   "source": [
    "df_por_not_null.shape[0]"
   ],
   "metadata": {
    "collapsed": false,
    "pycharm": {
     "name": "#%%\n"
    }
   }
  },
  {
   "cell_type": "code",
   "execution_count": 17,
   "outputs": [],
   "source": [
    "df_por = df_por_not_null"
   ],
   "metadata": {
    "collapsed": false,
    "pycharm": {
     "name": "#%%\n"
    }
   }
  },
  {
   "cell_type": "code",
   "execution_count": 18,
   "outputs": [
    {
     "data": {
      "text/plain": "  school sex  age address famsize Pstatus  Medu  Fedu     Mjob      Fjob  ...  \\\n0     GP   F   18       U     GT3       A     4     4  at_home   teacher  ...   \n1     GP   F   17       U     GT3       T     1     1  at_home     other  ...   \n2     GP   F   15       U     LE3       T     1     1  at_home     other  ...   \n3     GP   F   15       U     GT3       T     4     2   health  services  ...   \n4     GP   F   16       U     GT3       T     3     3    other     other  ...   \n\n  famrel freetime  goout  Dalc  Walc health absences  G1  G2  G3  \n0      4        3      4     1     1      3        4   0  11  11  \n1      5        3      3     1     1      3        2   9  11  11  \n2      4        3      2     2     3      3        6  12  13  12  \n3      3        2      2     1     1      5        0  14  14  14  \n4      4        3      2     1     2      5        0  11  13  13  \n\n[5 rows x 33 columns]",
      "text/html": "<div>\n<style scoped>\n    .dataframe tbody tr th:only-of-type {\n        vertical-align: middle;\n    }\n\n    .dataframe tbody tr th {\n        vertical-align: top;\n    }\n\n    .dataframe thead th {\n        text-align: right;\n    }\n</style>\n<table border=\"1\" class=\"dataframe\">\n  <thead>\n    <tr style=\"text-align: right;\">\n      <th></th>\n      <th>school</th>\n      <th>sex</th>\n      <th>age</th>\n      <th>address</th>\n      <th>famsize</th>\n      <th>Pstatus</th>\n      <th>Medu</th>\n      <th>Fedu</th>\n      <th>Mjob</th>\n      <th>Fjob</th>\n      <th>...</th>\n      <th>famrel</th>\n      <th>freetime</th>\n      <th>goout</th>\n      <th>Dalc</th>\n      <th>Walc</th>\n      <th>health</th>\n      <th>absences</th>\n      <th>G1</th>\n      <th>G2</th>\n      <th>G3</th>\n    </tr>\n  </thead>\n  <tbody>\n    <tr>\n      <th>0</th>\n      <td>GP</td>\n      <td>F</td>\n      <td>18</td>\n      <td>U</td>\n      <td>GT3</td>\n      <td>A</td>\n      <td>4</td>\n      <td>4</td>\n      <td>at_home</td>\n      <td>teacher</td>\n      <td>...</td>\n      <td>4</td>\n      <td>3</td>\n      <td>4</td>\n      <td>1</td>\n      <td>1</td>\n      <td>3</td>\n      <td>4</td>\n      <td>0</td>\n      <td>11</td>\n      <td>11</td>\n    </tr>\n    <tr>\n      <th>1</th>\n      <td>GP</td>\n      <td>F</td>\n      <td>17</td>\n      <td>U</td>\n      <td>GT3</td>\n      <td>T</td>\n      <td>1</td>\n      <td>1</td>\n      <td>at_home</td>\n      <td>other</td>\n      <td>...</td>\n      <td>5</td>\n      <td>3</td>\n      <td>3</td>\n      <td>1</td>\n      <td>1</td>\n      <td>3</td>\n      <td>2</td>\n      <td>9</td>\n      <td>11</td>\n      <td>11</td>\n    </tr>\n    <tr>\n      <th>2</th>\n      <td>GP</td>\n      <td>F</td>\n      <td>15</td>\n      <td>U</td>\n      <td>LE3</td>\n      <td>T</td>\n      <td>1</td>\n      <td>1</td>\n      <td>at_home</td>\n      <td>other</td>\n      <td>...</td>\n      <td>4</td>\n      <td>3</td>\n      <td>2</td>\n      <td>2</td>\n      <td>3</td>\n      <td>3</td>\n      <td>6</td>\n      <td>12</td>\n      <td>13</td>\n      <td>12</td>\n    </tr>\n    <tr>\n      <th>3</th>\n      <td>GP</td>\n      <td>F</td>\n      <td>15</td>\n      <td>U</td>\n      <td>GT3</td>\n      <td>T</td>\n      <td>4</td>\n      <td>2</td>\n      <td>health</td>\n      <td>services</td>\n      <td>...</td>\n      <td>3</td>\n      <td>2</td>\n      <td>2</td>\n      <td>1</td>\n      <td>1</td>\n      <td>5</td>\n      <td>0</td>\n      <td>14</td>\n      <td>14</td>\n      <td>14</td>\n    </tr>\n    <tr>\n      <th>4</th>\n      <td>GP</td>\n      <td>F</td>\n      <td>16</td>\n      <td>U</td>\n      <td>GT3</td>\n      <td>T</td>\n      <td>3</td>\n      <td>3</td>\n      <td>other</td>\n      <td>other</td>\n      <td>...</td>\n      <td>4</td>\n      <td>3</td>\n      <td>2</td>\n      <td>1</td>\n      <td>2</td>\n      <td>5</td>\n      <td>0</td>\n      <td>11</td>\n      <td>13</td>\n      <td>13</td>\n    </tr>\n  </tbody>\n</table>\n<p>5 rows × 33 columns</p>\n</div>"
     },
     "execution_count": 18,
     "metadata": {},
     "output_type": "execute_result"
    }
   ],
   "source": [
    "df_por.head()"
   ],
   "metadata": {
    "collapsed": false,
    "pycharm": {
     "name": "#%%\n"
    }
   }
  },
  {
   "cell_type": "code",
   "execution_count": 19,
   "outputs": [
    {
     "data": {
      "text/plain": "    school sex  age address famsize Pstatus  Medu  Fedu      Mjob      Fjob  \\\n644     MS   F   19       R     GT3       T     2     3  services     other   \n645     MS   F   18       U     LE3       T     3     1   teacher  services   \n646     MS   F   18       U     GT3       T     1     1     other     other   \n647     MS   M   17       U     LE3       T     3     1  services  services   \n648     MS   M   18       R     LE3       T     3     2  services     other   \n\n     ... famrel freetime  goout  Dalc  Walc health absences  G1  G2  G3  \n644  ...      5        4      2     1     2      5        4  10  11  10  \n645  ...      4        3      4     1     1      1        4  15  15  16  \n646  ...      1        1      1     1     1      5        6  11  12   9  \n647  ...      2        4      5     3     4      2        6  10  10  10  \n648  ...      4        4      1     3     4      5        4  10  11  11  \n\n[5 rows x 33 columns]",
      "text/html": "<div>\n<style scoped>\n    .dataframe tbody tr th:only-of-type {\n        vertical-align: middle;\n    }\n\n    .dataframe tbody tr th {\n        vertical-align: top;\n    }\n\n    .dataframe thead th {\n        text-align: right;\n    }\n</style>\n<table border=\"1\" class=\"dataframe\">\n  <thead>\n    <tr style=\"text-align: right;\">\n      <th></th>\n      <th>school</th>\n      <th>sex</th>\n      <th>age</th>\n      <th>address</th>\n      <th>famsize</th>\n      <th>Pstatus</th>\n      <th>Medu</th>\n      <th>Fedu</th>\n      <th>Mjob</th>\n      <th>Fjob</th>\n      <th>...</th>\n      <th>famrel</th>\n      <th>freetime</th>\n      <th>goout</th>\n      <th>Dalc</th>\n      <th>Walc</th>\n      <th>health</th>\n      <th>absences</th>\n      <th>G1</th>\n      <th>G2</th>\n      <th>G3</th>\n    </tr>\n  </thead>\n  <tbody>\n    <tr>\n      <th>644</th>\n      <td>MS</td>\n      <td>F</td>\n      <td>19</td>\n      <td>R</td>\n      <td>GT3</td>\n      <td>T</td>\n      <td>2</td>\n      <td>3</td>\n      <td>services</td>\n      <td>other</td>\n      <td>...</td>\n      <td>5</td>\n      <td>4</td>\n      <td>2</td>\n      <td>1</td>\n      <td>2</td>\n      <td>5</td>\n      <td>4</td>\n      <td>10</td>\n      <td>11</td>\n      <td>10</td>\n    </tr>\n    <tr>\n      <th>645</th>\n      <td>MS</td>\n      <td>F</td>\n      <td>18</td>\n      <td>U</td>\n      <td>LE3</td>\n      <td>T</td>\n      <td>3</td>\n      <td>1</td>\n      <td>teacher</td>\n      <td>services</td>\n      <td>...</td>\n      <td>4</td>\n      <td>3</td>\n      <td>4</td>\n      <td>1</td>\n      <td>1</td>\n      <td>1</td>\n      <td>4</td>\n      <td>15</td>\n      <td>15</td>\n      <td>16</td>\n    </tr>\n    <tr>\n      <th>646</th>\n      <td>MS</td>\n      <td>F</td>\n      <td>18</td>\n      <td>U</td>\n      <td>GT3</td>\n      <td>T</td>\n      <td>1</td>\n      <td>1</td>\n      <td>other</td>\n      <td>other</td>\n      <td>...</td>\n      <td>1</td>\n      <td>1</td>\n      <td>1</td>\n      <td>1</td>\n      <td>1</td>\n      <td>5</td>\n      <td>6</td>\n      <td>11</td>\n      <td>12</td>\n      <td>9</td>\n    </tr>\n    <tr>\n      <th>647</th>\n      <td>MS</td>\n      <td>M</td>\n      <td>17</td>\n      <td>U</td>\n      <td>LE3</td>\n      <td>T</td>\n      <td>3</td>\n      <td>1</td>\n      <td>services</td>\n      <td>services</td>\n      <td>...</td>\n      <td>2</td>\n      <td>4</td>\n      <td>5</td>\n      <td>3</td>\n      <td>4</td>\n      <td>2</td>\n      <td>6</td>\n      <td>10</td>\n      <td>10</td>\n      <td>10</td>\n    </tr>\n    <tr>\n      <th>648</th>\n      <td>MS</td>\n      <td>M</td>\n      <td>18</td>\n      <td>R</td>\n      <td>LE3</td>\n      <td>T</td>\n      <td>3</td>\n      <td>2</td>\n      <td>services</td>\n      <td>other</td>\n      <td>...</td>\n      <td>4</td>\n      <td>4</td>\n      <td>1</td>\n      <td>3</td>\n      <td>4</td>\n      <td>5</td>\n      <td>4</td>\n      <td>10</td>\n      <td>11</td>\n      <td>11</td>\n    </tr>\n  </tbody>\n</table>\n<p>5 rows × 33 columns</p>\n</div>"
     },
     "execution_count": 19,
     "metadata": {},
     "output_type": "execute_result"
    }
   ],
   "source": [
    "df_por.tail()"
   ],
   "metadata": {
    "collapsed": false,
    "pycharm": {
     "name": "#%%\n"
    }
   }
  },
  {
   "cell_type": "code",
   "execution_count": 20,
   "outputs": [
    {
     "data": {
      "text/plain": "(649, 33)"
     },
     "execution_count": 20,
     "metadata": {},
     "output_type": "execute_result"
    }
   ],
   "source": [
    "df_por.shape"
   ],
   "metadata": {
    "collapsed": false,
    "pycharm": {
     "name": "#%%\n"
    }
   }
  },
  {
   "cell_type": "code",
   "execution_count": 21,
   "outputs": [
    {
     "data": {
      "text/plain": "649"
     },
     "execution_count": 21,
     "metadata": {},
     "output_type": "execute_result"
    }
   ],
   "source": [
    "df_por.shape[0]"
   ],
   "metadata": {
    "collapsed": false,
    "pycharm": {
     "name": "#%%\n"
    }
   }
  },
  {
   "cell_type": "code",
   "execution_count": 22,
   "outputs": [
    {
     "name": "stdout",
     "output_type": "stream",
     "text": [
      "<class 'pandas.core.frame.DataFrame'>\n",
      "Int64Index: 649 entries, 0 to 648\n",
      "Data columns (total 33 columns):\n",
      " #   Column      Non-Null Count  Dtype \n",
      "---  ------      --------------  ----- \n",
      " 0   school      649 non-null    object\n",
      " 1   sex         649 non-null    object\n",
      " 2   age         649 non-null    int64 \n",
      " 3   address     649 non-null    object\n",
      " 4   famsize     649 non-null    object\n",
      " 5   Pstatus     649 non-null    object\n",
      " 6   Medu        649 non-null    int64 \n",
      " 7   Fedu        649 non-null    int64 \n",
      " 8   Mjob        649 non-null    object\n",
      " 9   Fjob        649 non-null    object\n",
      " 10  reason      649 non-null    object\n",
      " 11  guardian    649 non-null    object\n",
      " 12  traveltime  649 non-null    int64 \n",
      " 13  studytime   649 non-null    int64 \n",
      " 14  failures    649 non-null    int64 \n",
      " 15  schoolsup   649 non-null    object\n",
      " 16  famsup      649 non-null    object\n",
      " 17  paid        649 non-null    object\n",
      " 18  activities  649 non-null    object\n",
      " 19  nursery     649 non-null    object\n",
      " 20  higher      649 non-null    object\n",
      " 21  internet    649 non-null    object\n",
      " 22  romantic    649 non-null    object\n",
      " 23  famrel      649 non-null    int64 \n",
      " 24  freetime    649 non-null    int64 \n",
      " 25  goout       649 non-null    int64 \n",
      " 26  Dalc        649 non-null    int64 \n",
      " 27  Walc        649 non-null    int64 \n",
      " 28  health      649 non-null    int64 \n",
      " 29  absences    649 non-null    int64 \n",
      " 30  G1          649 non-null    int64 \n",
      " 31  G2          649 non-null    int64 \n",
      " 32  G3          649 non-null    int64 \n",
      "dtypes: int64(16), object(17)\n",
      "memory usage: 172.4+ KB\n"
     ]
    }
   ],
   "source": [
    "df_por.info()"
   ],
   "metadata": {
    "collapsed": false,
    "pycharm": {
     "name": "#%%\n"
    }
   }
  },
  {
   "cell_type": "code",
   "execution_count": 23,
   "outputs": [
    {
     "data": {
      "text/plain": "Index(['school', 'sex', 'age', 'address', 'famsize', 'Pstatus', 'Medu', 'Fedu',\n       'Mjob', 'Fjob', 'reason', 'guardian', 'traveltime', 'studytime',\n       'failures', 'schoolsup', 'famsup', 'paid', 'activities', 'nursery',\n       'higher', 'internet', 'romantic', 'famrel', 'freetime', 'goout', 'Dalc',\n       'Walc', 'health', 'absences', 'G1', 'G2', 'G3'],\n      dtype='object')"
     },
     "execution_count": 23,
     "metadata": {},
     "output_type": "execute_result"
    }
   ],
   "source": [
    "df_por.columns"
   ],
   "metadata": {
    "collapsed": false,
    "pycharm": {
     "name": "#%%\n"
    }
   }
  },
  {
   "cell_type": "code",
   "execution_count": 24,
   "outputs": [
    {
     "data": {
      "text/plain": "              age        Medu        Fedu  traveltime   studytime    failures  \\\ncount  649.000000  649.000000  649.000000  649.000000  649.000000  649.000000   \nmean    16.744222    2.514638    2.306626    1.568567    1.930663    0.221880   \nstd      1.218138    1.134552    1.099931    0.748660    0.829510    0.593235   \nmin     15.000000    0.000000    0.000000    1.000000    1.000000    0.000000   \n25%     16.000000    2.000000    1.000000    1.000000    1.000000    0.000000   \n50%     17.000000    2.000000    2.000000    1.000000    2.000000    0.000000   \n75%     18.000000    4.000000    3.000000    2.000000    2.000000    0.000000   \nmax     22.000000    4.000000    4.000000    4.000000    4.000000    3.000000   \n\n           famrel    freetime       goout        Dalc        Walc      health  \\\ncount  649.000000  649.000000  649.000000  649.000000  649.000000  649.000000   \nmean     3.930663    3.180277    3.184900    1.502311    2.280431    3.536210   \nstd      0.955717    1.051093    1.175766    0.924834    1.284380    1.446259   \nmin      1.000000    1.000000    1.000000    1.000000    1.000000    1.000000   \n25%      4.000000    3.000000    2.000000    1.000000    1.000000    2.000000   \n50%      4.000000    3.000000    3.000000    1.000000    2.000000    4.000000   \n75%      5.000000    4.000000    4.000000    2.000000    3.000000    5.000000   \nmax      5.000000    5.000000    5.000000    5.000000    5.000000    5.000000   \n\n         absences          G1          G2          G3  \ncount  649.000000  649.000000  649.000000  649.000000  \nmean     3.659476   11.399076   11.570108   11.906009  \nstd      4.640759    2.745265    2.913639    3.230656  \nmin      0.000000    0.000000    0.000000    0.000000  \n25%      0.000000   10.000000   10.000000   10.000000  \n50%      2.000000   11.000000   11.000000   12.000000  \n75%      6.000000   13.000000   13.000000   14.000000  \nmax     32.000000   19.000000   19.000000   19.000000  ",
      "text/html": "<div>\n<style scoped>\n    .dataframe tbody tr th:only-of-type {\n        vertical-align: middle;\n    }\n\n    .dataframe tbody tr th {\n        vertical-align: top;\n    }\n\n    .dataframe thead th {\n        text-align: right;\n    }\n</style>\n<table border=\"1\" class=\"dataframe\">\n  <thead>\n    <tr style=\"text-align: right;\">\n      <th></th>\n      <th>age</th>\n      <th>Medu</th>\n      <th>Fedu</th>\n      <th>traveltime</th>\n      <th>studytime</th>\n      <th>failures</th>\n      <th>famrel</th>\n      <th>freetime</th>\n      <th>goout</th>\n      <th>Dalc</th>\n      <th>Walc</th>\n      <th>health</th>\n      <th>absences</th>\n      <th>G1</th>\n      <th>G2</th>\n      <th>G3</th>\n    </tr>\n  </thead>\n  <tbody>\n    <tr>\n      <th>count</th>\n      <td>649.000000</td>\n      <td>649.000000</td>\n      <td>649.000000</td>\n      <td>649.000000</td>\n      <td>649.000000</td>\n      <td>649.000000</td>\n      <td>649.000000</td>\n      <td>649.000000</td>\n      <td>649.000000</td>\n      <td>649.000000</td>\n      <td>649.000000</td>\n      <td>649.000000</td>\n      <td>649.000000</td>\n      <td>649.000000</td>\n      <td>649.000000</td>\n      <td>649.000000</td>\n    </tr>\n    <tr>\n      <th>mean</th>\n      <td>16.744222</td>\n      <td>2.514638</td>\n      <td>2.306626</td>\n      <td>1.568567</td>\n      <td>1.930663</td>\n      <td>0.221880</td>\n      <td>3.930663</td>\n      <td>3.180277</td>\n      <td>3.184900</td>\n      <td>1.502311</td>\n      <td>2.280431</td>\n      <td>3.536210</td>\n      <td>3.659476</td>\n      <td>11.399076</td>\n      <td>11.570108</td>\n      <td>11.906009</td>\n    </tr>\n    <tr>\n      <th>std</th>\n      <td>1.218138</td>\n      <td>1.134552</td>\n      <td>1.099931</td>\n      <td>0.748660</td>\n      <td>0.829510</td>\n      <td>0.593235</td>\n      <td>0.955717</td>\n      <td>1.051093</td>\n      <td>1.175766</td>\n      <td>0.924834</td>\n      <td>1.284380</td>\n      <td>1.446259</td>\n      <td>4.640759</td>\n      <td>2.745265</td>\n      <td>2.913639</td>\n      <td>3.230656</td>\n    </tr>\n    <tr>\n      <th>min</th>\n      <td>15.000000</td>\n      <td>0.000000</td>\n      <td>0.000000</td>\n      <td>1.000000</td>\n      <td>1.000000</td>\n      <td>0.000000</td>\n      <td>1.000000</td>\n      <td>1.000000</td>\n      <td>1.000000</td>\n      <td>1.000000</td>\n      <td>1.000000</td>\n      <td>1.000000</td>\n      <td>0.000000</td>\n      <td>0.000000</td>\n      <td>0.000000</td>\n      <td>0.000000</td>\n    </tr>\n    <tr>\n      <th>25%</th>\n      <td>16.000000</td>\n      <td>2.000000</td>\n      <td>1.000000</td>\n      <td>1.000000</td>\n      <td>1.000000</td>\n      <td>0.000000</td>\n      <td>4.000000</td>\n      <td>3.000000</td>\n      <td>2.000000</td>\n      <td>1.000000</td>\n      <td>1.000000</td>\n      <td>2.000000</td>\n      <td>0.000000</td>\n      <td>10.000000</td>\n      <td>10.000000</td>\n      <td>10.000000</td>\n    </tr>\n    <tr>\n      <th>50%</th>\n      <td>17.000000</td>\n      <td>2.000000</td>\n      <td>2.000000</td>\n      <td>1.000000</td>\n      <td>2.000000</td>\n      <td>0.000000</td>\n      <td>4.000000</td>\n      <td>3.000000</td>\n      <td>3.000000</td>\n      <td>1.000000</td>\n      <td>2.000000</td>\n      <td>4.000000</td>\n      <td>2.000000</td>\n      <td>11.000000</td>\n      <td>11.000000</td>\n      <td>12.000000</td>\n    </tr>\n    <tr>\n      <th>75%</th>\n      <td>18.000000</td>\n      <td>4.000000</td>\n      <td>3.000000</td>\n      <td>2.000000</td>\n      <td>2.000000</td>\n      <td>0.000000</td>\n      <td>5.000000</td>\n      <td>4.000000</td>\n      <td>4.000000</td>\n      <td>2.000000</td>\n      <td>3.000000</td>\n      <td>5.000000</td>\n      <td>6.000000</td>\n      <td>13.000000</td>\n      <td>13.000000</td>\n      <td>14.000000</td>\n    </tr>\n    <tr>\n      <th>max</th>\n      <td>22.000000</td>\n      <td>4.000000</td>\n      <td>4.000000</td>\n      <td>4.000000</td>\n      <td>4.000000</td>\n      <td>3.000000</td>\n      <td>5.000000</td>\n      <td>5.000000</td>\n      <td>5.000000</td>\n      <td>5.000000</td>\n      <td>5.000000</td>\n      <td>5.000000</td>\n      <td>32.000000</td>\n      <td>19.000000</td>\n      <td>19.000000</td>\n      <td>19.000000</td>\n    </tr>\n  </tbody>\n</table>\n</div>"
     },
     "execution_count": 24,
     "metadata": {},
     "output_type": "execute_result"
    }
   ],
   "source": [
    "df_por.describe()"
   ],
   "metadata": {
    "collapsed": false,
    "pycharm": {
     "name": "#%%\n"
    }
   }
  },
  {
   "cell_type": "code",
   "execution_count": 24,
   "outputs": [],
   "source": [],
   "metadata": {
    "collapsed": false,
    "pycharm": {
     "name": "#%%\n"
    }
   }
  }
 ],
 "metadata": {
  "kernelspec": {
   "display_name": "Python 3",
   "language": "python",
   "name": "python3"
  },
  "language_info": {
   "codemirror_mode": {
    "name": "ipython",
    "version": 3
   },
   "file_extension": ".py",
   "mimetype": "text/x-python",
   "name": "python",
   "nbconvert_exporter": "python",
   "pygments_lexer": "ipython3",
   "version": "3.9.1"
  }
 },
 "nbformat": 4,
 "nbformat_minor": 1
}