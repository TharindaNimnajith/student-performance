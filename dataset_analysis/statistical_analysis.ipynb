{
 "cells": [
  {
   "cell_type": "code",
   "execution_count": 1,
   "metadata": {
    "pycharm": {
     "name": "#%%\n"
    }
   },
   "outputs": [],
   "source": [
    "import pandas as pd"
   ]
  },
  {
   "cell_type": "code",
   "execution_count": 2,
   "metadata": {
    "pycharm": {
     "name": "#%%\n"
    }
   },
   "outputs": [],
   "source": [
    "df = pd.read_csv('../dataset/processed/student-performance-dataset.csv')"
   ]
  },
  {
   "cell_type": "code",
   "execution_count": 3,
   "metadata": {
    "pycharm": {
     "name": "#%%\n"
    }
   },
   "outputs": [],
   "source": [
    "df"
   ]
  },
  {
   "cell_type": "code",
   "execution_count": 4,
   "metadata": {
    "pycharm": {
     "name": "#%%\n"
    }
   },
   "outputs": [],
   "source": [
    "df.shape"
   ]
  },
  {
   "cell_type": "code",
   "execution_count": 5,
   "metadata": {
    "pycharm": {
     "name": "#%%\n"
    }
   },
   "outputs": [],
   "source": [
    "df_null = df[df.isnull().any(axis=1)]"
   ]
  },
  {
   "cell_type": "code",
   "execution_count": 6,
   "metadata": {
    "pycharm": {
     "name": "#%%\n"
    }
   },
   "outputs": [
    {
     "data": {
      "text/plain": "Empty DataFrame\nColumns: [school, sex, age, address, famsize, Pstatus, Medu, Fedu, Mjob, Fjob, reason, guardian, traveltime, studytime, failures, schoolsup, famsup, paid, activities, nursery, higher, internet, romantic, famrel, freetime, goout, Dalc, Walc, health, absences, G1, G2, G3]\nIndex: []\n\n[0 rows x 33 columns]",
      "text/html": "<div>\n<style scoped>\n    .dataframe tbody tr th:only-of-type {\n        vertical-align: middle;\n    }\n\n    .dataframe tbody tr th {\n        vertical-align: top;\n    }\n\n    .dataframe thead th {\n        text-align: right;\n    }\n</style>\n<table border=\"1\" class=\"dataframe\">\n  <thead>\n    <tr style=\"text-align: right;\">\n      <th></th>\n      <th>school</th>\n      <th>sex</th>\n      <th>age</th>\n      <th>address</th>\n      <th>famsize</th>\n      <th>Pstatus</th>\n      <th>Medu</th>\n      <th>Fedu</th>\n      <th>Mjob</th>\n      <th>Fjob</th>\n      <th>...</th>\n      <th>famrel</th>\n      <th>freetime</th>\n      <th>goout</th>\n      <th>Dalc</th>\n      <th>Walc</th>\n      <th>health</th>\n      <th>absences</th>\n      <th>G1</th>\n      <th>G2</th>\n      <th>G3</th>\n    </tr>\n  </thead>\n  <tbody>\n  </tbody>\n</table>\n<p>0 rows × 33 columns</p>\n</div>"
     },
     "execution_count": 6,
     "metadata": {},
     "output_type": "execute_result"
    }
   ],
   "source": [
    "df_null"
   ]
  },
  {
   "cell_type": "code",
   "execution_count": 7,
   "metadata": {
    "pycharm": {
     "name": "#%%\n"
    }
   },
   "outputs": [
    {
     "name": "stdout",
     "output_type": "stream",
     "text": [
      "<class 'pandas.core.frame.DataFrame'>\n",
      "RangeIndex: 1044 entries, 0 to 1043\n",
      "Data columns (total 33 columns):\n",
      " #   Column      Non-Null Count  Dtype \n",
      "---  ------      --------------  ----- \n",
      " 0   school      1044 non-null   object\n",
      " 1   sex         1044 non-null   object\n",
      " 2   age         1044 non-null   int64 \n",
      " 3   address     1044 non-null   object\n",
      " 4   famsize     1044 non-null   object\n",
      " 5   Pstatus     1044 non-null   object\n",
      " 6   Medu        1044 non-null   int64 \n",
      " 7   Fedu        1044 non-null   int64 \n",
      " 8   Mjob        1044 non-null   object\n",
      " 9   Fjob        1044 non-null   object\n",
      " 10  reason      1044 non-null   object\n",
      " 11  guardian    1044 non-null   object\n",
      " 12  traveltime  1044 non-null   int64 \n",
      " 13  studytime   1044 non-null   int64 \n",
      " 14  failures    1044 non-null   int64 \n",
      " 15  schoolsup   1044 non-null   object\n",
      " 16  famsup      1044 non-null   object\n",
      " 17  paid        1044 non-null   object\n",
      " 18  activities  1044 non-null   object\n",
      " 19  nursery     1044 non-null   object\n",
      " 20  higher      1044 non-null   object\n",
      " 21  internet    1044 non-null   object\n",
      " 22  romantic    1044 non-null   object\n",
      " 23  famrel      1044 non-null   int64 \n",
      " 24  freetime    1044 non-null   int64 \n",
      " 25  goout       1044 non-null   int64 \n",
      " 26  Dalc        1044 non-null   int64 \n",
      " 27  Walc        1044 non-null   int64 \n",
      " 28  health      1044 non-null   int64 \n",
      " 29  absences    1044 non-null   int64 \n",
      " 30  G1          1044 non-null   int64 \n",
      " 31  G2          1044 non-null   int64 \n",
      " 32  G3          1044 non-null   int64 \n",
      "dtypes: int64(16), object(17)\n",
      "memory usage: 269.3+ KB\n"
     ]
    }
   ],
   "source": [
    "df.info()"
   ]
  },
  {
   "cell_type": "code",
   "execution_count": 8,
   "metadata": {
    "pycharm": {
     "name": "#%%\n"
    }
   },
   "outputs": [
    {
     "data": {
      "text/plain": "Index(['school', 'sex', 'age', 'address', 'famsize', 'Pstatus', 'Medu', 'Fedu',\n       'Mjob', 'Fjob', 'reason', 'guardian', 'traveltime', 'studytime',\n       'failures', 'schoolsup', 'famsup', 'paid', 'activities', 'nursery',\n       'higher', 'internet', 'romantic', 'famrel', 'freetime', 'goout', 'Dalc',\n       'Walc', 'health', 'absences', 'G1', 'G2', 'G3'],\n      dtype='object')"
     },
     "execution_count": 8,
     "metadata": {},
     "output_type": "execute_result"
    }
   ],
   "source": [
    "df.columns"
   ]
  },
  {
   "cell_type": "code",
   "execution_count": 9,
   "metadata": {
    "pycharm": {
     "name": "#%%\n"
    }
   },
   "outputs": [
    {
     "data": {
      "text/plain": "               age         Medu         Fedu   traveltime    studytime  \\\ncount  1044.000000  1044.000000  1044.000000  1044.000000  1044.000000   \nmean     16.726054     2.603448     2.387931     1.522989     1.970307   \nstd       1.239975     1.124907     1.099938     0.731727     0.834353   \nmin      15.000000     0.000000     0.000000     1.000000     1.000000   \n25%      16.000000     2.000000     1.000000     1.000000     1.000000   \n50%      17.000000     3.000000     2.000000     1.000000     2.000000   \n75%      18.000000     4.000000     3.000000     2.000000     2.000000   \nmax      22.000000     4.000000     4.000000     4.000000     4.000000   \n\n          failures       famrel     freetime        goout         Dalc  \\\ncount  1044.000000  1044.000000  1044.000000  1044.000000  1044.000000   \nmean      0.264368     3.935824     3.201149     3.156130     1.494253   \nstd       0.656142     0.933401     1.031507     1.152575     0.911714   \nmin       0.000000     1.000000     1.000000     1.000000     1.000000   \n25%       0.000000     4.000000     3.000000     2.000000     1.000000   \n50%       0.000000     4.000000     3.000000     3.000000     1.000000   \n75%       0.000000     5.000000     4.000000     4.000000     2.000000   \nmax       3.000000     5.000000     5.000000     5.000000     5.000000   \n\n              Walc       health     absences           G1           G2  \\\ncount  1044.000000  1044.000000  1044.000000  1044.000000  1044.000000   \nmean      2.284483     3.543103     4.434866    11.213602    11.246169   \nstd       1.285105     1.424703     6.210017     2.983394     3.285071   \nmin       1.000000     1.000000     0.000000     0.000000     0.000000   \n25%       1.000000     3.000000     0.000000     9.000000     9.000000   \n50%       2.000000     4.000000     2.000000    11.000000    11.000000   \n75%       3.000000     5.000000     6.000000    13.000000    13.000000   \nmax       5.000000     5.000000    75.000000    19.000000    19.000000   \n\n                G3  \ncount  1044.000000  \nmean     11.341954  \nstd       3.864796  \nmin       0.000000  \n25%      10.000000  \n50%      11.000000  \n75%      14.000000  \nmax      20.000000  ",
      "text/html": "<div>\n<style scoped>\n    .dataframe tbody tr th:only-of-type {\n        vertical-align: middle;\n    }\n\n    .dataframe tbody tr th {\n        vertical-align: top;\n    }\n\n    .dataframe thead th {\n        text-align: right;\n    }\n</style>\n<table border=\"1\" class=\"dataframe\">\n  <thead>\n    <tr style=\"text-align: right;\">\n      <th></th>\n      <th>age</th>\n      <th>Medu</th>\n      <th>Fedu</th>\n      <th>traveltime</th>\n      <th>studytime</th>\n      <th>failures</th>\n      <th>famrel</th>\n      <th>freetime</th>\n      <th>goout</th>\n      <th>Dalc</th>\n      <th>Walc</th>\n      <th>health</th>\n      <th>absences</th>\n      <th>G1</th>\n      <th>G2</th>\n      <th>G3</th>\n    </tr>\n  </thead>\n  <tbody>\n    <tr>\n      <th>count</th>\n      <td>1044.000000</td>\n      <td>1044.000000</td>\n      <td>1044.000000</td>\n      <td>1044.000000</td>\n      <td>1044.000000</td>\n      <td>1044.000000</td>\n      <td>1044.000000</td>\n      <td>1044.000000</td>\n      <td>1044.000000</td>\n      <td>1044.000000</td>\n      <td>1044.000000</td>\n      <td>1044.000000</td>\n      <td>1044.000000</td>\n      <td>1044.000000</td>\n      <td>1044.000000</td>\n      <td>1044.000000</td>\n    </tr>\n    <tr>\n      <th>mean</th>\n      <td>16.726054</td>\n      <td>2.603448</td>\n      <td>2.387931</td>\n      <td>1.522989</td>\n      <td>1.970307</td>\n      <td>0.264368</td>\n      <td>3.935824</td>\n      <td>3.201149</td>\n      <td>3.156130</td>\n      <td>1.494253</td>\n      <td>2.284483</td>\n      <td>3.543103</td>\n      <td>4.434866</td>\n      <td>11.213602</td>\n      <td>11.246169</td>\n      <td>11.341954</td>\n    </tr>\n    <tr>\n      <th>std</th>\n      <td>1.239975</td>\n      <td>1.124907</td>\n      <td>1.099938</td>\n      <td>0.731727</td>\n      <td>0.834353</td>\n      <td>0.656142</td>\n      <td>0.933401</td>\n      <td>1.031507</td>\n      <td>1.152575</td>\n      <td>0.911714</td>\n      <td>1.285105</td>\n      <td>1.424703</td>\n      <td>6.210017</td>\n      <td>2.983394</td>\n      <td>3.285071</td>\n      <td>3.864796</td>\n    </tr>\n    <tr>\n      <th>min</th>\n      <td>15.000000</td>\n      <td>0.000000</td>\n      <td>0.000000</td>\n      <td>1.000000</td>\n      <td>1.000000</td>\n      <td>0.000000</td>\n      <td>1.000000</td>\n      <td>1.000000</td>\n      <td>1.000000</td>\n      <td>1.000000</td>\n      <td>1.000000</td>\n      <td>1.000000</td>\n      <td>0.000000</td>\n      <td>0.000000</td>\n      <td>0.000000</td>\n      <td>0.000000</td>\n    </tr>\n    <tr>\n      <th>25%</th>\n      <td>16.000000</td>\n      <td>2.000000</td>\n      <td>1.000000</td>\n      <td>1.000000</td>\n      <td>1.000000</td>\n      <td>0.000000</td>\n      <td>4.000000</td>\n      <td>3.000000</td>\n      <td>2.000000</td>\n      <td>1.000000</td>\n      <td>1.000000</td>\n      <td>3.000000</td>\n      <td>0.000000</td>\n      <td>9.000000</td>\n      <td>9.000000</td>\n      <td>10.000000</td>\n    </tr>\n    <tr>\n      <th>50%</th>\n      <td>17.000000</td>\n      <td>3.000000</td>\n      <td>2.000000</td>\n      <td>1.000000</td>\n      <td>2.000000</td>\n      <td>0.000000</td>\n      <td>4.000000</td>\n      <td>3.000000</td>\n      <td>3.000000</td>\n      <td>1.000000</td>\n      <td>2.000000</td>\n      <td>4.000000</td>\n      <td>2.000000</td>\n      <td>11.000000</td>\n      <td>11.000000</td>\n      <td>11.000000</td>\n    </tr>\n    <tr>\n      <th>75%</th>\n      <td>18.000000</td>\n      <td>4.000000</td>\n      <td>3.000000</td>\n      <td>2.000000</td>\n      <td>2.000000</td>\n      <td>0.000000</td>\n      <td>5.000000</td>\n      <td>4.000000</td>\n      <td>4.000000</td>\n      <td>2.000000</td>\n      <td>3.000000</td>\n      <td>5.000000</td>\n      <td>6.000000</td>\n      <td>13.000000</td>\n      <td>13.000000</td>\n      <td>14.000000</td>\n    </tr>\n    <tr>\n      <th>max</th>\n      <td>22.000000</td>\n      <td>4.000000</td>\n      <td>4.000000</td>\n      <td>4.000000</td>\n      <td>4.000000</td>\n      <td>3.000000</td>\n      <td>5.000000</td>\n      <td>5.000000</td>\n      <td>5.000000</td>\n      <td>5.000000</td>\n      <td>5.000000</td>\n      <td>5.000000</td>\n      <td>75.000000</td>\n      <td>19.000000</td>\n      <td>19.000000</td>\n      <td>20.000000</td>\n    </tr>\n  </tbody>\n</table>\n</div>"
     },
     "execution_count": 9,
     "metadata": {},
     "output_type": "execute_result"
    }
   ],
   "source": [
    "df.describe()"
   ]
  },
  {
   "cell_type": "code",
   "execution_count": 10,
   "metadata": {
    "collapsed": true
   },
   "outputs": [
    {
     "data": {
      "text/plain": "           age     Medu     Fedu  traveltime  studytime  failures   famrel  \\\ncount  1044.00  1044.00  1044.00     1044.00    1044.00   1044.00  1044.00   \nmean     16.73     2.60     2.39        1.52       1.97      0.26     3.94   \nstd       1.24     1.12     1.10        0.73       0.83      0.66     0.93   \nmin      15.00     0.00     0.00        1.00       1.00      0.00     1.00   \n25%      16.00     2.00     1.00        1.00       1.00      0.00     4.00   \n50%      17.00     3.00     2.00        1.00       2.00      0.00     4.00   \n75%      18.00     4.00     3.00        2.00       2.00      0.00     5.00   \nmax      22.00     4.00     4.00        4.00       4.00      3.00     5.00   \n\n       freetime    goout     Dalc     Walc   health  absences       G1  \\\ncount   1044.00  1044.00  1044.00  1044.00  1044.00   1044.00  1044.00   \nmean       3.20     3.16     1.49     2.28     3.54      4.43    11.21   \nstd        1.03     1.15     0.91     1.29     1.42      6.21     2.98   \nmin        1.00     1.00     1.00     1.00     1.00      0.00     0.00   \n25%        3.00     2.00     1.00     1.00     3.00      0.00     9.00   \n50%        3.00     3.00     1.00     2.00     4.00      2.00    11.00   \n75%        4.00     4.00     2.00     3.00     5.00      6.00    13.00   \nmax        5.00     5.00     5.00     5.00     5.00     75.00    19.00   \n\n            G2       G3  \ncount  1044.00  1044.00  \nmean     11.25    11.34  \nstd       3.29     3.86  \nmin       0.00     0.00  \n25%       9.00    10.00  \n50%      11.00    11.00  \n75%      13.00    14.00  \nmax      19.00    20.00  ",
      "text/html": "<div>\n<style scoped>\n    .dataframe tbody tr th:only-of-type {\n        vertical-align: middle;\n    }\n\n    .dataframe tbody tr th {\n        vertical-align: top;\n    }\n\n    .dataframe thead th {\n        text-align: right;\n    }\n</style>\n<table border=\"1\" class=\"dataframe\">\n  <thead>\n    <tr style=\"text-align: right;\">\n      <th></th>\n      <th>age</th>\n      <th>Medu</th>\n      <th>Fedu</th>\n      <th>traveltime</th>\n      <th>studytime</th>\n      <th>failures</th>\n      <th>famrel</th>\n      <th>freetime</th>\n      <th>goout</th>\n      <th>Dalc</th>\n      <th>Walc</th>\n      <th>health</th>\n      <th>absences</th>\n      <th>G1</th>\n      <th>G2</th>\n      <th>G3</th>\n    </tr>\n  </thead>\n  <tbody>\n    <tr>\n      <th>count</th>\n      <td>1044.00</td>\n      <td>1044.00</td>\n      <td>1044.00</td>\n      <td>1044.00</td>\n      <td>1044.00</td>\n      <td>1044.00</td>\n      <td>1044.00</td>\n      <td>1044.00</td>\n      <td>1044.00</td>\n      <td>1044.00</td>\n      <td>1044.00</td>\n      <td>1044.00</td>\n      <td>1044.00</td>\n      <td>1044.00</td>\n      <td>1044.00</td>\n      <td>1044.00</td>\n    </tr>\n    <tr>\n      <th>mean</th>\n      <td>16.73</td>\n      <td>2.60</td>\n      <td>2.39</td>\n      <td>1.52</td>\n      <td>1.97</td>\n      <td>0.26</td>\n      <td>3.94</td>\n      <td>3.20</td>\n      <td>3.16</td>\n      <td>1.49</td>\n      <td>2.28</td>\n      <td>3.54</td>\n      <td>4.43</td>\n      <td>11.21</td>\n      <td>11.25</td>\n      <td>11.34</td>\n    </tr>\n    <tr>\n      <th>std</th>\n      <td>1.24</td>\n      <td>1.12</td>\n      <td>1.10</td>\n      <td>0.73</td>\n      <td>0.83</td>\n      <td>0.66</td>\n      <td>0.93</td>\n      <td>1.03</td>\n      <td>1.15</td>\n      <td>0.91</td>\n      <td>1.29</td>\n      <td>1.42</td>\n      <td>6.21</td>\n      <td>2.98</td>\n      <td>3.29</td>\n      <td>3.86</td>\n    </tr>\n    <tr>\n      <th>min</th>\n      <td>15.00</td>\n      <td>0.00</td>\n      <td>0.00</td>\n      <td>1.00</td>\n      <td>1.00</td>\n      <td>0.00</td>\n      <td>1.00</td>\n      <td>1.00</td>\n      <td>1.00</td>\n      <td>1.00</td>\n      <td>1.00</td>\n      <td>1.00</td>\n      <td>0.00</td>\n      <td>0.00</td>\n      <td>0.00</td>\n      <td>0.00</td>\n    </tr>\n    <tr>\n      <th>25%</th>\n      <td>16.00</td>\n      <td>2.00</td>\n      <td>1.00</td>\n      <td>1.00</td>\n      <td>1.00</td>\n      <td>0.00</td>\n      <td>4.00</td>\n      <td>3.00</td>\n      <td>2.00</td>\n      <td>1.00</td>\n      <td>1.00</td>\n      <td>3.00</td>\n      <td>0.00</td>\n      <td>9.00</td>\n      <td>9.00</td>\n      <td>10.00</td>\n    </tr>\n    <tr>\n      <th>50%</th>\n      <td>17.00</td>\n      <td>3.00</td>\n      <td>2.00</td>\n      <td>1.00</td>\n      <td>2.00</td>\n      <td>0.00</td>\n      <td>4.00</td>\n      <td>3.00</td>\n      <td>3.00</td>\n      <td>1.00</td>\n      <td>2.00</td>\n      <td>4.00</td>\n      <td>2.00</td>\n      <td>11.00</td>\n      <td>11.00</td>\n      <td>11.00</td>\n    </tr>\n    <tr>\n      <th>75%</th>\n      <td>18.00</td>\n      <td>4.00</td>\n      <td>3.00</td>\n      <td>2.00</td>\n      <td>2.00</td>\n      <td>0.00</td>\n      <td>5.00</td>\n      <td>4.00</td>\n      <td>4.00</td>\n      <td>2.00</td>\n      <td>3.00</td>\n      <td>5.00</td>\n      <td>6.00</td>\n      <td>13.00</td>\n      <td>13.00</td>\n      <td>14.00</td>\n    </tr>\n    <tr>\n      <th>max</th>\n      <td>22.00</td>\n      <td>4.00</td>\n      <td>4.00</td>\n      <td>4.00</td>\n      <td>4.00</td>\n      <td>3.00</td>\n      <td>5.00</td>\n      <td>5.00</td>\n      <td>5.00</td>\n      <td>5.00</td>\n      <td>5.00</td>\n      <td>5.00</td>\n      <td>75.00</td>\n      <td>19.00</td>\n      <td>19.00</td>\n      <td>20.00</td>\n    </tr>\n  </tbody>\n</table>\n</div>"
     },
     "execution_count": 10,
     "metadata": {},
     "output_type": "execute_result"
    }
   ],
   "source": [
    "df.describe().round(2)"
   ]
  },
  {
   "cell_type": "code",
   "execution_count": 11,
   "metadata": {
    "pycharm": {
     "name": "#%%\n"
    }
   },
   "outputs": [
    {
     "data": {
      "text/plain": "count    1044.00\nmean       16.73\nstd         1.24\nmin        15.00\n25%        16.00\n50%        17.00\n75%        18.00\nmax        22.00\nName: age, dtype: float64"
     },
     "execution_count": 11,
     "metadata": {},
     "output_type": "execute_result"
    }
   ],
   "source": [
    "df['age'].describe().round(2)"
   ]
  },
  {
   "cell_type": "code",
   "execution_count": 12,
   "metadata": {
    "pycharm": {
     "name": "#%%\n"
    }
   },
   "outputs": [
    {
     "data": {
      "text/plain": "count    1044.00\nmean        0.26\nstd         0.66\nmin         0.00\n25%         0.00\n50%         0.00\n75%         0.00\nmax         3.00\nName: failures, dtype: float64"
     },
     "execution_count": 12,
     "metadata": {},
     "output_type": "execute_result"
    }
   ],
   "source": [
    "df['failures'].describe().round(2)"
   ]
  },
  {
   "cell_type": "code",
   "execution_count": 13,
   "metadata": {
    "pycharm": {
     "name": "#%%\n"
    }
   },
   "outputs": [
    {
     "data": {
      "text/plain": "count    1044.00\nmean       16.73\nstd         1.24\nmin        15.00\n25%        16.00\n50%        17.00\n75%        18.00\nmax        22.00\nName: age, dtype: float64"
     },
     "execution_count": 13,
     "metadata": {},
     "output_type": "execute_result"
    }
   ],
   "source": [
    "df['age'].describe().round(2)"
   ]
  },
  {
   "cell_type": "code",
   "execution_count": 14,
   "metadata": {
    "pycharm": {
     "name": "#%%\n"
    }
   },
   "outputs": [
    {
     "data": {
      "text/plain": "count    1044.00\nmean        0.26\nstd         0.66\nmin         0.00\n25%         0.00\n50%         0.00\n75%         0.00\nmax         3.00\nName: failures, dtype: float64"
     },
     "execution_count": 14,
     "metadata": {},
     "output_type": "execute_result"
    }
   ],
   "source": [
    "df['failures'].describe().round(2)"
   ]
  },
  {
   "cell_type": "code",
   "execution_count": 15,
   "metadata": {
    "pycharm": {
     "name": "#%%\n"
    }
   },
   "outputs": [
    {
     "data": {
      "text/plain": "count    1044.00\nmean        3.94\nstd         0.93\nmin         1.00\n25%         4.00\n50%         4.00\n75%         5.00\nmax         5.00\nName: famrel, dtype: float64"
     },
     "execution_count": 15,
     "metadata": {},
     "output_type": "execute_result"
    }
   ],
   "source": [
    "df['famrel'].describe().round(2)"
   ]
  },
  {
   "cell_type": "code",
   "execution_count": 16,
   "metadata": {
    "pycharm": {
     "name": "#%%\n"
    }
   },
   "outputs": [
    {
     "data": {
      "text/plain": "count    1044.00\nmean        3.20\nstd         1.03\nmin         1.00\n25%         3.00\n50%         3.00\n75%         4.00\nmax         5.00\nName: freetime, dtype: float64"
     },
     "execution_count": 16,
     "metadata": {},
     "output_type": "execute_result"
    }
   ],
   "source": [
    "df['freetime'].describe().round(2)"
   ]
  },
  {
   "cell_type": "code",
   "execution_count": 17,
   "metadata": {
    "pycharm": {
     "name": "#%%\n"
    }
   },
   "outputs": [
    {
     "data": {
      "text/plain": "count    1044.00\nmean        3.16\nstd         1.15\nmin         1.00\n25%         2.00\n50%         3.00\n75%         4.00\nmax         5.00\nName: goout, dtype: float64"
     },
     "execution_count": 17,
     "metadata": {},
     "output_type": "execute_result"
    }
   ],
   "source": [
    "df['goout'].describe().round(2)"
   ]
  },
  {
   "cell_type": "code",
   "execution_count": 18,
   "metadata": {
    "pycharm": {
     "name": "#%%\n"
    }
   },
   "outputs": [
    {
     "data": {
      "text/plain": "count    1044.00\nmean        1.49\nstd         0.91\nmin         1.00\n25%         1.00\n50%         1.00\n75%         2.00\nmax         5.00\nName: Dalc, dtype: float64"
     },
     "execution_count": 18,
     "metadata": {},
     "output_type": "execute_result"
    }
   ],
   "source": [
    "df['Dalc'].describe().round(2)"
   ]
  },
  {
   "cell_type": "code",
   "execution_count": 19,
   "metadata": {
    "pycharm": {
     "name": "#%%\n"
    }
   },
   "outputs": [
    {
     "data": {
      "text/plain": "count    1044.00\nmean        2.28\nstd         1.29\nmin         1.00\n25%         1.00\n50%         2.00\n75%         3.00\nmax         5.00\nName: Walc, dtype: float64"
     },
     "execution_count": 19,
     "metadata": {},
     "output_type": "execute_result"
    }
   ],
   "source": [
    "df['Walc'].describe().round(2)"
   ]
  },
  {
   "cell_type": "code",
   "execution_count": 20,
   "metadata": {
    "pycharm": {
     "name": "#%%\n"
    }
   },
   "outputs": [
    {
     "data": {
      "text/plain": "count    1044.00\nmean        3.54\nstd         1.42\nmin         1.00\n25%         3.00\n50%         4.00\n75%         5.00\nmax         5.00\nName: health, dtype: float64"
     },
     "execution_count": 20,
     "metadata": {},
     "output_type": "execute_result"
    }
   ],
   "source": [
    "df['health'].describe().round(2)"
   ]
  },
  {
   "cell_type": "code",
   "execution_count": 21,
   "metadata": {
    "pycharm": {
     "name": "#%%\n"
    }
   },
   "outputs": [
    {
     "data": {
      "text/plain": "count    1044.00\nmean        4.43\nstd         6.21\nmin         0.00\n25%         0.00\n50%         2.00\n75%         6.00\nmax        75.00\nName: absences, dtype: float64"
     },
     "execution_count": 21,
     "metadata": {},
     "output_type": "execute_result"
    }
   ],
   "source": [
    "df['absences'].describe().round(2)"
   ]
  },
  {
   "cell_type": "code",
   "execution_count": 22,
   "metadata": {
    "pycharm": {
     "name": "#%%\n"
    }
   },
   "outputs": [
    {
     "data": {
      "text/plain": "count    1044.00\nmean       11.21\nstd         2.98\nmin         0.00\n25%         9.00\n50%        11.00\n75%        13.00\nmax        19.00\nName: G1, dtype: float64"
     },
     "execution_count": 22,
     "metadata": {},
     "output_type": "execute_result"
    }
   ],
   "source": [
    "df['G1'].describe().round(2)"
   ]
  },
  {
   "cell_type": "code",
   "execution_count": 23,
   "metadata": {
    "pycharm": {
     "name": "#%%\n"
    }
   },
   "outputs": [
    {
     "data": {
      "text/plain": "count    1044.00\nmean       11.25\nstd         3.29\nmin         0.00\n25%         9.00\n50%        11.00\n75%        13.00\nmax        19.00\nName: G2, dtype: float64"
     },
     "execution_count": 23,
     "metadata": {},
     "output_type": "execute_result"
    }
   ],
   "source": [
    "df['G2'].describe().round(2)"
   ]
  },
  {
   "cell_type": "code",
   "execution_count": 24,
   "metadata": {
    "pycharm": {
     "name": "#%%\n"
    }
   },
   "outputs": [
    {
     "data": {
      "text/plain": "count    1044.00\nmean       11.34\nstd         3.86\nmin         0.00\n25%        10.00\n50%        11.00\n75%        14.00\nmax        20.00\nName: G3, dtype: float64"
     },
     "execution_count": 24,
     "metadata": {},
     "output_type": "execute_result"
    }
   ],
   "source": [
    "df['G3'].describe().round(2)"
   ]
  },
  {
   "cell_type": "code",
   "execution_count": 24,
   "outputs": [],
   "source": [],
   "metadata": {
    "collapsed": false,
    "pycharm": {
     "name": "#%%\n"
    }
   }
  }
 ],
 "metadata": {
  "kernelspec": {
   "display_name": "Python 3",
   "language": "python",
   "name": "python3"
  },
  "language_info": {
   "codemirror_mode": {
    "name": "ipython",
    "version": 3
   },
   "file_extension": ".py",
   "mimetype": "text/x-python",
   "name": "python",
   "nbconvert_exporter": "python",
   "pygments_lexer": "ipython3",
   "version": "3.9.1"
  }
 },
 "nbformat": 4,
 "nbformat_minor": 1
}